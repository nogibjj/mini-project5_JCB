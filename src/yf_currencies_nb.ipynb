{
 "cells": [
  {
   "cell_type": "markdown",
   "metadata": {},
   "source": [
    "# Yahoo finance for currencies\n",
    "\n",
    "## This is a notebook that performs some descriptive analysis on diverse currencies\n",
    "\n",
    "### Let's check how MXN, EUR & NZD have moved vs USD in the last 6 months\n",
    "\n",
    "We'll be using hourly data obtained from Yahoo finance using the package yfinance. \n",
    "\n",
    "Let's import the descriptive statistics we've created in lib.py and a few methods from our download_currencies module:"
   ]
  },
  {
   "cell_type": "code",
   "execution_count": null,
   "metadata": {},
   "outputs": [],
   "source": [
    "from lib import read_data, print_range, plot_returns\n",
    "from download_currencies import download_prices_long, create_tickers\n",
    "import polars as pl"
   ]
  },
  {
   "cell_type": "markdown",
   "metadata": {},
   "source": [
    "We'll start by creating a list, currencies, that contains the fx pairs we'll be analyzing. We can then use create_tickers to create a list, tickers, that will be used in yfinance's download method.\n",
    "\n",
    "Finally, we download a csv with the Open, High, Low, Close prices for each hour in the last 6 months."
   ]
  },
  {
   "cell_type": "code",
   "execution_count": null,
   "metadata": {},
   "outputs": [],
   "source": [
    "currencies = ['usdmxn', 'eurusd', 'nzdusd']\n",
    "tickers = create_tickers(currencies)\n",
    "download_prices_long(tickers, start = '2023-03-20', end = '2023-09-15')"
   ]
  },
  {
   "cell_type": "markdown",
   "metadata": {},
   "source": [
    "Now let's import our data and see what we're dealing with:"
   ]
  },
  {
   "cell_type": "code",
   "execution_count": null,
   "metadata": {},
   "outputs": [],
   "source": [
    "prices = read_data('currency_prices_long.csv')\n",
    "print(prices.head())"
   ]
  },
  {
   "cell_type": "markdown",
   "metadata": {},
   "source": [
    "What does the Price type column contain?"
   ]
  },
  {
   "cell_type": "code",
   "execution_count": null,
   "metadata": {},
   "outputs": [],
   "source": [
    "print(prices['Price type'].unique())"
   ]
  },
  {
   "cell_type": "markdown",
   "metadata": {},
   "source": [
    "As we can see, the dataframe contains a Price type column with Open, High, Low, etc. \n",
    "That means that these columns describe the different prices observed by that currency given a certain hour.\n",
    "\n",
    "Let's look at a quick example of each currency's average price by Price type for the last 6 months:"
   ]
  },
  {
   "cell_type": "code",
   "execution_count": null,
   "metadata": {},
   "outputs": [],
   "source": [
    "average_prices = prices.group_by(\n",
    "    ['Instrument','Price type']\n",
    "    ).mean().filter(\n",
    "        pl.col('Price type') != 'Volume'\n",
    "        )[['Instrument','Price type','Price']].sort(\n",
    "            by='Instrument')\n",
    "print(average_prices)"
   ]
  },
  {
   "cell_type": "markdown",
   "metadata": {},
   "source": [
    "Let's run a few more descriptive statistics:"
   ]
  },
  {
   "cell_type": "code",
   "execution_count": null,
   "metadata": {},
   "outputs": [],
   "source": [
    "print_range(prices)"
   ]
  },
  {
   "cell_type": "markdown",
   "metadata": {},
   "source": [
    "Last, but not least, let's take a look at each currency's return over the last 6 months. Which one do you think has had the best performance?"
   ]
  },
  {
   "cell_type": "code",
   "execution_count": null,
   "metadata": {},
   "outputs": [],
   "source": [
    "plot_returns(prices, 'Close')"
   ]
  },
  {
   "cell_type": "markdown",
   "metadata": {},
   "source": [
    "Interesting! Over the last 6 months, the Mexican peso has enjoyed the best performance. Over the period, MXN has appreciated around 9.5% against USD while the EUR has remained relatively flat and NZD has lost -5.7% vs USD."
   ]
  }
 ],
 "metadata": {
  "kernelspec": {
   "display_name": "base",
   "language": "python",
   "name": "python3"
  },
  "language_info": {
   "codemirror_mode": {
    "name": "ipython",
    "version": 3
   },
   "file_extension": ".py",
   "mimetype": "text/x-python",
   "name": "python",
   "nbconvert_exporter": "python",
   "pygments_lexer": "ipython3",
   "version": "3.10.12"
  },
  "orig_nbformat": 4
 },
 "nbformat": 4,
 "nbformat_minor": 2
}
